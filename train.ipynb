{
 "cells": [
  {
   "cell_type": "code",
   "execution_count": 1,
   "metadata": {},
   "outputs": [
    {
     "name": "stderr",
     "output_type": "stream",
     "text": [
      "/home/hovduc/miniconda3/envs/sudoku_env/lib/python3.8/site-packages/tqdm/auto.py:21: TqdmWarning: IProgress not found. Please update jupyter and ipywidgets. See https://ipywidgets.readthedocs.io/en/stable/user_install.html\n",
      "  from .autonotebook import tqdm as notebook_tqdm\n"
     ]
    }
   ],
   "source": [
    "from sudoku import load_config\n",
    "# from sudoku.trainer.train import Train\n",
    "from sudoku.trainer.train_kfold import Train"
   ]
  },
  {
   "cell_type": "code",
   "execution_count": 2,
   "metadata": {},
   "outputs": [
    {
     "name": "stdout",
     "output_type": "stream",
     "text": [
      "Fold: 1\n",
      "epoch 1/10\n"
     ]
    },
    {
     "name": "stderr",
     "output_type": "stream",
     "text": [
      "100%|██████████| 103/103 [00:52<00:00,  1.97it/s]\n"
     ]
    },
    {
     "name": "stdout",
     "output_type": "stream",
     "text": [
      "epoch 2/10\n"
     ]
    },
    {
     "name": "stderr",
     "output_type": "stream",
     "text": [
      "100%|██████████| 103/103 [00:48<00:00,  2.13it/s]\n"
     ]
    },
    {
     "name": "stdout",
     "output_type": "stream",
     "text": [
      "epoch 3/10\n"
     ]
    },
    {
     "name": "stderr",
     "output_type": "stream",
     "text": [
      "100%|██████████| 103/103 [00:48<00:00,  2.14it/s]\n"
     ]
    },
    {
     "name": "stdout",
     "output_type": "stream",
     "text": [
      "epoch 4/10\n"
     ]
    },
    {
     "name": "stderr",
     "output_type": "stream",
     "text": [
      "100%|██████████| 103/103 [00:48<00:00,  2.11it/s]\n"
     ]
    },
    {
     "name": "stdout",
     "output_type": "stream",
     "text": [
      "epoch 5/10\n"
     ]
    },
    {
     "name": "stderr",
     "output_type": "stream",
     "text": [
      "100%|██████████| 103/103 [00:51<00:00,  2.00it/s]\n",
      " 15%|█████████▊                                                      | 4/26 [00:00<00:03,  7.05it/s]/home/hovduc/miniconda3/envs/sudoku_env/lib/python3.8/site-packages/torchmetrics/utilities/prints.py:36: UserWarning: Average precision score for one or more classes was `nan`. Ignoring these classes in macro-average\n",
      "  warnings.warn(*args, **kwargs)\n",
      "100%|███████████████████████████████████████████████████████████████| 26/26 [00:03<00:00,  8.54it/s]\n"
     ]
    },
    {
     "name": "stdout",
     "output_type": "stream",
     "text": [
      "{'loss': 1.2481186481622548, 'f1_scores': 0.20296371498933205, 'recall': 0.2729525990211047, 'precision': 0.1992691348378475, 'AP': 0.3915927627911934}\n",
      "epoch 6/10\n"
     ]
    },
    {
     "name": "stderr",
     "output_type": "stream",
     "text": [
      "100%|██████████| 103/103 [00:51<00:00,  2.02it/s]\n"
     ]
    },
    {
     "name": "stdout",
     "output_type": "stream",
     "text": [
      "epoch 7/10\n"
     ]
    },
    {
     "name": "stderr",
     "output_type": "stream",
     "text": [
      " 60%|██████    | 62/103 [00:26<00:18,  2.27it/s]"
     ]
    }
   ],
   "source": [
    "PATH = './configs/program.yml'\n",
    "\n",
    "config = load_config(PATH)\n",
    "\n",
    "train = Train(config)\n",
    "train.main()"
   ]
  },
  {
   "cell_type": "code",
   "execution_count": 3,
   "metadata": {},
   "outputs": [],
   "source": [
    "from torchmetrics import ConfusionMatrix\n",
    "\n",
    "_, val = train.load_data(\"./train_data/dataset/\")"
   ]
  },
  {
   "cell_type": "code",
   "execution_count": 4,
   "metadata": {},
   "outputs": [
    {
     "name": "stdout",
     "output_type": "stream",
     "text": [
      "tensor([[189,   0,   0,   0,   0,   0,   0,   0,   0,   0],\n",
      "        [  0, 158,   0,   0,   0,   0,   0,   0,   0,   0],\n",
      "        [  0,   0, 173,   0,   0,   0,   0,   0,   0,   0],\n",
      "        [  0,   0,   0, 193,   0,   0,   0,   0,   0,   0],\n",
      "        [  0,   0,   0,   0, 156,   0,   0,   0,   0,   0],\n",
      "        [  0,   0,   0,   0,   0, 158,   0,   0,   0,   0],\n",
      "        [  0,   0,   0,   0,   0,   0, 147,   1,   0,   0],\n",
      "        [  0,   0,   0,   0,   0,   0,   0, 163,   0,   0],\n",
      "        [  0,   0,   0,   0,   0,   0,   1,   0, 184,   0],\n",
      "        [  0,   0,   0,   0,   0,   0,   0,   0,   0, 169]])\n"
     ]
    }
   ],
   "source": [
    "import torch\n",
    "\n",
    "for i in val:\n",
    "    x, y = i\n",
    "    train.model.to(\"cpu\")\n",
    "    y_hat = train.model(x)\n",
    "    y_hat = torch.argmax(torch.softmax(y_hat, dim=1), dim=1)\n",
    "    confmat = ConfusionMatrix(task=\"multiclass\", num_classes=10)\n",
    "    print(confmat(y, y_hat))\n",
    "    break"
   ]
  }
 ],
 "metadata": {
  "kernelspec": {
   "display_name": "Python 3",
   "language": "python",
   "name": "python3"
  },
  "language_info": {
   "codemirror_mode": {
    "name": "ipython",
    "version": 3
   },
   "file_extension": ".py",
   "mimetype": "text/x-python",
   "name": "python",
   "nbconvert_exporter": "python",
   "pygments_lexer": "ipython3",
   "version": "3.8.16"
  },
  "orig_nbformat": 4
 },
 "nbformat": 4,
 "nbformat_minor": 2
}
