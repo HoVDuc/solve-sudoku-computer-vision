{
 "cells": [
  {
   "cell_type": "code",
   "execution_count": 1,
   "metadata": {},
   "outputs": [],
   "source": [
    "from sudoku import load_config\n",
    "from sudoku.trainer.train import Train"
   ]
  },
  {
   "cell_type": "code",
   "execution_count": null,
   "metadata": {},
   "outputs": [],
   "source": [
    "PATH = './configs/program.yml'\n",
    "\n",
    "config = load_config(PATH)\n",
    "\n",
    "train = Train()\n",
    "train.run(config)"
   ]
  },
  {
   "cell_type": "code",
   "execution_count": 3,
   "metadata": {},
   "outputs": [],
   "source": [
    "from torchmetrics import ConfusionMatrix\n",
    "\n",
    "_, val = train.load_data(\"./train_data/dataset/\")"
   ]
  },
  {
   "cell_type": "code",
   "execution_count": 4,
   "metadata": {},
   "outputs": [
    {
     "name": "stdout",
     "output_type": "stream",
     "text": [
      "tensor([[189,   0,   0,   0,   0,   0,   0,   0,   0,   0],\n",
      "        [  0, 158,   0,   0,   0,   0,   0,   0,   0,   0],\n",
      "        [  0,   0, 173,   0,   0,   0,   0,   0,   0,   0],\n",
      "        [  0,   0,   0, 193,   0,   0,   0,   0,   0,   0],\n",
      "        [  0,   0,   0,   0, 156,   0,   0,   0,   0,   0],\n",
      "        [  0,   0,   0,   0,   0, 158,   0,   0,   0,   0],\n",
      "        [  0,   0,   0,   0,   0,   0, 147,   1,   0,   0],\n",
      "        [  0,   0,   0,   0,   0,   0,   0, 163,   0,   0],\n",
      "        [  0,   0,   0,   0,   0,   0,   1,   0, 184,   0],\n",
      "        [  0,   0,   0,   0,   0,   0,   0,   0,   0, 169]])\n"
     ]
    }
   ],
   "source": [
    "import torch\n",
    "\n",
    "for i in val:\n",
    "    x, y = i\n",
    "    train.model.to(\"cpu\")\n",
    "    y_hat = train.model(x)\n",
    "    y_hat = torch.argmax(torch.softmax(y_hat, dim=1), dim=1)\n",
    "    confmat = ConfusionMatrix(task=\"multiclass\", num_classes=10)\n",
    "    print(confmat(y, y_hat))\n",
    "    break"
   ]
  }
 ],
 "metadata": {
  "kernelspec": {
   "display_name": "Python 3",
   "language": "python",
   "name": "python3"
  },
  "language_info": {
   "codemirror_mode": {
    "name": "ipython",
    "version": 3
   },
   "file_extension": ".py",
   "mimetype": "text/x-python",
   "name": "python",
   "nbconvert_exporter": "python",
   "pygments_lexer": "ipython3",
   "version": "3.11.2"
  },
  "orig_nbformat": 4
 },
 "nbformat": 4,
 "nbformat_minor": 2
}
